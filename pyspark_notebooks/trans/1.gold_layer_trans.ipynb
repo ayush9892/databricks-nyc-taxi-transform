{
 "cells": [
  {
   "cell_type": "markdown",
   "metadata": {
    "application/vnd.databricks.v1+cell": {
     "cellMetadata": {
      "byteLimit": 2048000,
      "rowLimit": 10000
     },
     "inputWidgets": {},
     "nuid": "e57acb7c-1ccd-4551-9b21-35b525e33f3d",
     "showTitle": false,
     "title": ""
    }
   },
   "source": [
    "#### Read Trip Data "
   ]
  },
  {
   "cell_type": "code",
   "execution_count": 0,
   "metadata": {
    "application/vnd.databricks.v1+cell": {
     "cellMetadata": {
      "byteLimit": 2048000,
      "rowLimit": 10000
     },
     "inputWidgets": {},
     "nuid": "e32856b2-ec00-4a49-8844-a9b702d4e978",
     "showTitle": false,
     "title": ""
    }
   },
   "outputs": [],
   "source": [
    "trip_data_df = spark.read.parquet('/mnt/synapselearningadls/raw/trip_data_green_parquet', inferSchema=True)"
   ]
  },
  {
   "cell_type": "code",
   "execution_count": 0,
   "metadata": {
    "application/vnd.databricks.v1+cell": {
     "cellMetadata": {
      "byteLimit": 2048000,
      "rowLimit": 10000
     },
     "inputWidgets": {},
     "nuid": "8440dc7a-c55e-468b-8f72-57ff1a5df043",
     "showTitle": false,
     "title": ""
    }
   },
   "outputs": [
    {
     "output_type": "display_data",
     "data": {
      "text/html": [
       "<style scoped>\n",
       "  .table-result-container {\n",
       "    max-height: 300px;\n",
       "    overflow: auto;\n",
       "  }\n",
       "  table, th, td {\n",
       "    border: 1px solid black;\n",
       "    border-collapse: collapse;\n",
       "  }\n",
       "  th, td {\n",
       "    padding: 5px;\n",
       "  }\n",
       "  th {\n",
       "    text-align: left;\n",
       "  }\n",
       "</style><div class='table-result-container'><table class='table-result'><thead style='background-color: white'><tr><th>VendorID</th><th>lpep_pickup_datetime</th><th>lpep_dropoff_datetime</th><th>store_and_fwd_flag</th><th>RatecodeID</th><th>PULocationID</th><th>DOLocationID</th><th>passenger_count</th><th>trip_distance</th><th>fare_amount</th><th>extra</th><th>mta_tax</th><th>tip_amount</th><th>tolls_amount</th><th>ehail_fee</th><th>improvement_surcharge</th><th>total_amount</th><th>payment_type</th><th>trip_type</th><th>congestion_surcharge</th><th>year</th><th>month</th></tr></thead><tbody><tr><td>2</td><td>2019-12-18T15:52:30Z</td><td>2019-12-18T15:54:39Z</td><td>N</td><td>1</td><td>264</td><td>264</td><td>5</td><td>0.0</td><td>3.5</td><td>0.5</td><td>0.5</td><td>0.01</td><td>0.0</td><td>null</td><td>0.3</td><td>4.81</td><td>1</td><td>1</td><td>0.0</td><td>2020</td><td>1</td></tr><tr><td>2</td><td>2020-01-01T00:45:58Z</td><td>2020-01-01T00:56:39Z</td><td>N</td><td>5</td><td>66</td><td>65</td><td>2</td><td>1.28</td><td>20.0</td><td>0.0</td><td>0.0</td><td>4.06</td><td>0.0</td><td>null</td><td>0.3</td><td>24.36</td><td>1</td><td>2</td><td>0.0</td><td>2020</td><td>1</td></tr><tr><td>2</td><td>2020-01-01T00:41:38Z</td><td>2020-01-01T00:52:49Z</td><td>N</td><td>1</td><td>181</td><td>228</td><td>1</td><td>2.47</td><td>10.5</td><td>0.5</td><td>0.5</td><td>3.54</td><td>0.0</td><td>null</td><td>0.3</td><td>15.34</td><td>1</td><td>1</td><td>0.0</td><td>2020</td><td>1</td></tr><tr><td>1</td><td>2020-01-01T00:52:46Z</td><td>2020-01-01T01:14:21Z</td><td>N</td><td>1</td><td>129</td><td>263</td><td>2</td><td>6.3</td><td>21.0</td><td>3.25</td><td>0.5</td><td>0.0</td><td>0.0</td><td>null</td><td>0.3</td><td>25.05</td><td>2</td><td>1</td><td>2.75</td><td>2020</td><td>1</td></tr><tr><td>1</td><td>2020-01-01T00:19:57Z</td><td>2020-01-01T00:30:56Z</td><td>N</td><td>1</td><td>210</td><td>150</td><td>1</td><td>2.3</td><td>10.0</td><td>0.5</td><td>0.5</td><td>0.0</td><td>0.0</td><td>null</td><td>0.3</td><td>11.3</td><td>1</td><td>1</td><td>0.0</td><td>2020</td><td>1</td></tr><tr><td>1</td><td>2020-01-01T00:52:33Z</td><td>2020-01-01T01:09:54Z</td><td>N</td><td>1</td><td>35</td><td>39</td><td>1</td><td>3.0</td><td>13.5</td><td>0.5</td><td>0.5</td><td>0.0</td><td>0.0</td><td>null</td><td>0.3</td><td>14.8</td><td>1</td><td>1</td><td>0.0</td><td>2020</td><td>1</td></tr><tr><td>2</td><td>2020-01-01T00:10:18Z</td><td>2020-01-01T00:22:16Z</td><td>N</td><td>1</td><td>25</td><td>61</td><td>1</td><td>2.77</td><td>11.0</td><td>0.5</td><td>0.5</td><td>0.0</td><td>0.0</td><td>null</td><td>0.3</td><td>12.3</td><td>2</td><td>1</td><td>0.0</td><td>2020</td><td>1</td></tr><tr><td>2</td><td>2020-01-01T01:03:14Z</td><td>2020-01-01T01:29:45Z</td><td>N</td><td>1</td><td>225</td><td>89</td><td>1</td><td>4.98</td><td>20.5</td><td>0.5</td><td>0.5</td><td>0.0</td><td>0.0</td><td>null</td><td>0.3</td><td>21.8</td><td>2</td><td>1</td><td>0.0</td><td>2020</td><td>1</td></tr><tr><td>2</td><td>2020-01-01T00:04:11Z</td><td>2020-01-01T00:09:48Z</td><td>N</td><td>1</td><td>129</td><td>129</td><td>1</td><td>0.71</td><td>5.5</td><td>0.5</td><td>0.5</td><td>0.0</td><td>0.0</td><td>null</td><td>0.3</td><td>6.8</td><td>2</td><td>1</td><td>0.0</td><td>2020</td><td>1</td></tr><tr><td>2</td><td>2020-01-01T00:25:52Z</td><td>2020-01-01T00:32:16Z</td><td>N</td><td>1</td><td>129</td><td>83</td><td>1</td><td>0.8</td><td>5.5</td><td>0.5</td><td>0.5</td><td>0.0</td><td>0.0</td><td>null</td><td>0.3</td><td>6.8</td><td>2</td><td>1</td><td>0.0</td><td>2020</td><td>1</td></tr></tbody></table></div>"
      ]
     },
     "metadata": {
      "application/vnd.databricks.v1+output": {
       "addedWidgets": {},
       "aggData": [],
       "aggError": "",
       "aggOverflow": false,
       "aggSchema": [],
       "aggSeriesLimitReached": false,
       "aggType": "",
       "arguments": {},
       "columnCustomDisplayInfos": {},
       "data": [
        [
         2,
         "2019-12-18T15:52:30Z",
         "2019-12-18T15:54:39Z",
         "N",
         1,
         264,
         264,
         5,
         0.0,
         3.5,
         0.5,
         0.5,
         0.01,
         0.0,
         null,
         0.3,
         4.81,
         1,
         1,
         0.0,
         2020,
         1
        ],
        [
         2,
         "2020-01-01T00:45:58Z",
         "2020-01-01T00:56:39Z",
         "N",
         5,
         66,
         65,
         2,
         1.28,
         20.0,
         0.0,
         0.0,
         4.06,
         0.0,
         null,
         0.3,
         24.36,
         1,
         2,
         0.0,
         2020,
         1
        ],
        [
         2,
         "2020-01-01T00:41:38Z",
         "2020-01-01T00:52:49Z",
         "N",
         1,
         181,
         228,
         1,
         2.47,
         10.5,
         0.5,
         0.5,
         3.54,
         0.0,
         null,
         0.3,
         15.34,
         1,
         1,
         0.0,
         2020,
         1
        ],
        [
         1,
         "2020-01-01T00:52:46Z",
         "2020-01-01T01:14:21Z",
         "N",
         1,
         129,
         263,
         2,
         6.3,
         21.0,
         3.25,
         0.5,
         0.0,
         0.0,
         null,
         0.3,
         25.05,
         2,
         1,
         2.75,
         2020,
         1
        ],
        [
         1,
         "2020-01-01T00:19:57Z",
         "2020-01-01T00:30:56Z",
         "N",
         1,
         210,
         150,
         1,
         2.3,
         10.0,
         0.5,
         0.5,
         0.0,
         0.0,
         null,
         0.3,
         11.3,
         1,
         1,
         0.0,
         2020,
         1
        ],
        [
         1,
         "2020-01-01T00:52:33Z",
         "2020-01-01T01:09:54Z",
         "N",
         1,
         35,
         39,
         1,
         3.0,
         13.5,
         0.5,
         0.5,
         0.0,
         0.0,
         null,
         0.3,
         14.8,
         1,
         1,
         0.0,
         2020,
         1
        ],
        [
         2,
         "2020-01-01T00:10:18Z",
         "2020-01-01T00:22:16Z",
         "N",
         1,
         25,
         61,
         1,
         2.77,
         11.0,
         0.5,
         0.5,
         0.0,
         0.0,
         null,
         0.3,
         12.3,
         2,
         1,
         0.0,
         2020,
         1
        ],
        [
         2,
         "2020-01-01T01:03:14Z",
         "2020-01-01T01:29:45Z",
         "N",
         1,
         225,
         89,
         1,
         4.98,
         20.5,
         0.5,
         0.5,
         0.0,
         0.0,
         null,
         0.3,
         21.8,
         2,
         1,
         0.0,
         2020,
         1
        ],
        [
         2,
         "2020-01-01T00:04:11Z",
         "2020-01-01T00:09:48Z",
         "N",
         1,
         129,
         129,
         1,
         0.71,
         5.5,
         0.5,
         0.5,
         0.0,
         0.0,
         null,
         0.3,
         6.8,
         2,
         1,
         0.0,
         2020,
         1
        ],
        [
         2,
         "2020-01-01T00:25:52Z",
         "2020-01-01T00:32:16Z",
         "N",
         1,
         129,
         83,
         1,
         0.8,
         5.5,
         0.5,
         0.5,
         0.0,
         0.0,
         null,
         0.3,
         6.8,
         2,
         1,
         0.0,
         2020,
         1
        ]
       ],
       "datasetInfos": [],
       "dbfsResultPath": null,
       "isJsonSchema": true,
       "metadata": {},
       "overflow": false,
       "plotOptions": {
        "customPlotOptions": {},
        "displayType": "table",
        "pivotAggregation": null,
        "pivotColumns": null,
        "xColumns": null,
        "yColumns": null
       },
       "removedWidgets": [],
       "schema": [
        {
         "metadata": "{}",
         "name": "VendorID",
         "type": "\"integer\""
        },
        {
         "metadata": "{}",
         "name": "lpep_pickup_datetime",
         "type": "\"timestamp\""
        },
        {
         "metadata": "{}",
         "name": "lpep_dropoff_datetime",
         "type": "\"timestamp\""
        },
        {
         "metadata": "{}",
         "name": "store_and_fwd_flag",
         "type": "\"string\""
        },
        {
         "metadata": "{}",
         "name": "RatecodeID",
         "type": "\"integer\""
        },
        {
         "metadata": "{}",
         "name": "PULocationID",
         "type": "\"integer\""
        },
        {
         "metadata": "{}",
         "name": "DOLocationID",
         "type": "\"integer\""
        },
        {
         "metadata": "{}",
         "name": "passenger_count",
         "type": "\"integer\""
        },
        {
         "metadata": "{}",
         "name": "trip_distance",
         "type": "\"double\""
        },
        {
         "metadata": "{}",
         "name": "fare_amount",
         "type": "\"double\""
        },
        {
         "metadata": "{}",
         "name": "extra",
         "type": "\"double\""
        },
        {
         "metadata": "{}",
         "name": "mta_tax",
         "type": "\"double\""
        },
        {
         "metadata": "{}",
         "name": "tip_amount",
         "type": "\"double\""
        },
        {
         "metadata": "{}",
         "name": "tolls_amount",
         "type": "\"double\""
        },
        {
         "metadata": "{}",
         "name": "ehail_fee",
         "type": "\"integer\""
        },
        {
         "metadata": "{}",
         "name": "improvement_surcharge",
         "type": "\"double\""
        },
        {
         "metadata": "{}",
         "name": "total_amount",
         "type": "\"double\""
        },
        {
         "metadata": "{}",
         "name": "payment_type",
         "type": "\"integer\""
        },
        {
         "metadata": "{}",
         "name": "trip_type",
         "type": "\"integer\""
        },
        {
         "metadata": "{}",
         "name": "congestion_surcharge",
         "type": "\"double\""
        },
        {
         "metadata": "{}",
         "name": "year",
         "type": "\"integer\""
        },
        {
         "metadata": "{}",
         "name": "month",
         "type": "\"integer\""
        }
       ],
       "type": "table"
      }
     },
     "output_type": "display_data"
    }
   ],
   "source": [
    "display(trip_data_df.limit(10))"
   ]
  },
  {
   "cell_type": "markdown",
   "metadata": {
    "application/vnd.databricks.v1+cell": {
     "cellMetadata": {
      "byteLimit": 2048000,
      "rowLimit": 10000
     },
     "inputWidgets": {},
     "nuid": "f96dc2c2-96bf-4e79-9de2-0017d9f85c0c",
     "showTitle": false,
     "title": ""
    }
   },
   "source": [
    "#### Read Taxi Zone"
   ]
  },
  {
   "cell_type": "code",
   "execution_count": 0,
   "metadata": {
    "application/vnd.databricks.v1+cell": {
     "cellMetadata": {
      "byteLimit": 2048000,
      "rowLimit": 10000
     },
     "inputWidgets": {},
     "nuid": "815058f9-10f9-4597-966f-4da9bb4bbd41",
     "showTitle": false,
     "title": ""
    }
   },
   "outputs": [],
   "source": [
    "taxi_zone_df = spark.read.csv('/mnt/synapselearningadls/raw/taxi_zone.csv', inferSchema=True, header=True)"
   ]
  },
  {
   "cell_type": "code",
   "execution_count": 0,
   "metadata": {
    "application/vnd.databricks.v1+cell": {
     "cellMetadata": {
      "byteLimit": 2048000,
      "rowLimit": 10000
     },
     "inputWidgets": {},
     "nuid": "a2f67f78-9f54-4236-902a-0e99e350c9bb",
     "showTitle": false,
     "title": ""
    }
   },
   "outputs": [
    {
     "output_type": "display_data",
     "data": {
      "text/html": [
       "<style scoped>\n",
       "  .table-result-container {\n",
       "    max-height: 300px;\n",
       "    overflow: auto;\n",
       "  }\n",
       "  table, th, td {\n",
       "    border: 1px solid black;\n",
       "    border-collapse: collapse;\n",
       "  }\n",
       "  th, td {\n",
       "    padding: 5px;\n",
       "  }\n",
       "  th {\n",
       "    text-align: left;\n",
       "  }\n",
       "</style><div class='table-result-container'><table class='table-result'><thead style='background-color: white'><tr><th>LocationID</th><th>Borough</th><th>Zone</th><th>service_zone</th></tr></thead><tbody><tr><td>1</td><td>EWR</td><td>Newark Airport</td><td>EWR</td></tr><tr><td>2</td><td>Queens</td><td>Jamaica Bay</td><td>Boro Zone</td></tr><tr><td>3</td><td>Bronx</td><td>Allerton/Pelham Gardens</td><td>Boro Zone</td></tr><tr><td>4</td><td>Manhattan</td><td>Alphabet City</td><td>Yellow Zone</td></tr><tr><td>5</td><td>Staten Island</td><td>Arden Heights</td><td>Boro Zone</td></tr><tr><td>6</td><td>Staten Island</td><td>Arrochar/Fort Wadsworth</td><td>Boro Zone</td></tr><tr><td>7</td><td>Queens</td><td>Astoria</td><td>Boro Zone</td></tr><tr><td>8</td><td>Queens</td><td>Astoria Park</td><td>Boro Zone</td></tr><tr><td>9</td><td>Queens</td><td>Auburndale</td><td>Boro Zone</td></tr><tr><td>10</td><td>Queens</td><td>Baisley Park</td><td>Boro Zone</td></tr></tbody></table></div>"
      ]
     },
     "metadata": {
      "application/vnd.databricks.v1+output": {
       "addedWidgets": {},
       "aggData": [],
       "aggError": "",
       "aggOverflow": false,
       "aggSchema": [],
       "aggSeriesLimitReached": false,
       "aggType": "",
       "arguments": {},
       "columnCustomDisplayInfos": {},
       "data": [
        [
         1,
         "EWR",
         "Newark Airport",
         "EWR"
        ],
        [
         2,
         "Queens",
         "Jamaica Bay",
         "Boro Zone"
        ],
        [
         3,
         "Bronx",
         "Allerton/Pelham Gardens",
         "Boro Zone"
        ],
        [
         4,
         "Manhattan",
         "Alphabet City",
         "Yellow Zone"
        ],
        [
         5,
         "Staten Island",
         "Arden Heights",
         "Boro Zone"
        ],
        [
         6,
         "Staten Island",
         "Arrochar/Fort Wadsworth",
         "Boro Zone"
        ],
        [
         7,
         "Queens",
         "Astoria",
         "Boro Zone"
        ],
        [
         8,
         "Queens",
         "Astoria Park",
         "Boro Zone"
        ],
        [
         9,
         "Queens",
         "Auburndale",
         "Boro Zone"
        ],
        [
         10,
         "Queens",
         "Baisley Park",
         "Boro Zone"
        ]
       ],
       "datasetInfos": [],
       "dbfsResultPath": null,
       "isJsonSchema": true,
       "metadata": {},
       "overflow": false,
       "plotOptions": {
        "customPlotOptions": {},
        "displayType": "table",
        "pivotAggregation": null,
        "pivotColumns": null,
        "xColumns": null,
        "yColumns": null
       },
       "removedWidgets": [],
       "schema": [
        {
         "metadata": "{}",
         "name": "LocationID",
         "type": "\"integer\""
        },
        {
         "metadata": "{}",
         "name": "Borough",
         "type": "\"string\""
        },
        {
         "metadata": "{}",
         "name": "Zone",
         "type": "\"string\""
        },
        {
         "metadata": "{}",
         "name": "service_zone",
         "type": "\"string\""
        }
       ],
       "type": "table"
      }
     },
     "output_type": "display_data"
    }
   ],
   "source": [
    "display(taxi_zone_df.limit(10))"
   ]
  },
  {
   "cell_type": "markdown",
   "metadata": {
    "application/vnd.databricks.v1+cell": {
     "cellMetadata": {
      "byteLimit": 2048000,
      "rowLimit": 10000
     },
     "inputWidgets": {},
     "nuid": "8108cb6d-30c3-4d78-a7d5-7293b58e1fbd",
     "showTitle": false,
     "title": ""
    }
   },
   "source": [
    "#### Read Payment Type "
   ]
  },
  {
   "cell_type": "code",
   "execution_count": 0,
   "metadata": {
    "application/vnd.databricks.v1+cell": {
     "cellMetadata": {
      "byteLimit": 2048000,
      "rowLimit": 10000
     },
     "inputWidgets": {},
     "nuid": "b6f533ea-301c-4e0f-a38e-fe6514904a84",
     "showTitle": false,
     "title": ""
    }
   },
   "outputs": [],
   "source": [
    "payment_type_df = spark.read.json('/mnt/synapselearningadls/raw/payment_type.json')"
   ]
  },
  {
   "cell_type": "code",
   "execution_count": 0,
   "metadata": {
    "application/vnd.databricks.v1+cell": {
     "cellMetadata": {
      "byteLimit": 2048000,
      "rowLimit": 10000
     },
     "inputWidgets": {},
     "nuid": "20ad63d3-6156-4ea9-9959-33557440fc6e",
     "showTitle": false,
     "title": ""
    }
   },
   "outputs": [
    {
     "output_type": "display_data",
     "data": {
      "text/html": [
       "<style scoped>\n",
       "  .table-result-container {\n",
       "    max-height: 300px;\n",
       "    overflow: auto;\n",
       "  }\n",
       "  table, th, td {\n",
       "    border: 1px solid black;\n",
       "    border-collapse: collapse;\n",
       "  }\n",
       "  th, td {\n",
       "    padding: 5px;\n",
       "  }\n",
       "  th {\n",
       "    text-align: left;\n",
       "  }\n",
       "</style><div class='table-result-container'><table class='table-result'><thead style='background-color: white'><tr><th>payment_type</th><th>payment_type_desc</th></tr></thead><tbody><tr><td>1</td><td>Credit card</td></tr><tr><td>2</td><td>Cash</td></tr><tr><td>3</td><td>No charge</td></tr><tr><td>4</td><td>Dispute</td></tr><tr><td>5</td><td>Unknown</td></tr><tr><td>6</td><td>Voided trip</td></tr></tbody></table></div>"
      ]
     },
     "metadata": {
      "application/vnd.databricks.v1+output": {
       "addedWidgets": {},
       "aggData": [],
       "aggError": "",
       "aggOverflow": false,
       "aggSchema": [],
       "aggSeriesLimitReached": false,
       "aggType": "",
       "arguments": {},
       "columnCustomDisplayInfos": {},
       "data": [
        [
         1,
         "Credit card"
        ],
        [
         2,
         "Cash"
        ],
        [
         3,
         "No charge"
        ],
        [
         4,
         "Dispute"
        ],
        [
         5,
         "Unknown"
        ],
        [
         6,
         "Voided trip"
        ]
       ],
       "datasetInfos": [],
       "dbfsResultPath": null,
       "isJsonSchema": true,
       "metadata": {},
       "overflow": false,
       "plotOptions": {
        "customPlotOptions": {},
        "displayType": "table",
        "pivotAggregation": null,
        "pivotColumns": null,
        "xColumns": null,
        "yColumns": null
       },
       "removedWidgets": [],
       "schema": [
        {
         "metadata": "{}",
         "name": "payment_type",
         "type": "\"long\""
        },
        {
         "metadata": "{}",
         "name": "payment_type_desc",
         "type": "\"string\""
        }
       ],
       "type": "table"
      }
     },
     "output_type": "display_data"
    }
   ],
   "source": [
    "display(payment_type_df)"
   ]
  },
  {
   "cell_type": "markdown",
   "metadata": {
    "application/vnd.databricks.v1+cell": {
     "cellMetadata": {
      "byteLimit": 2048000,
      "rowLimit": 10000
     },
     "inputWidgets": {},
     "nuid": "d362c7c9-95a1-4693-942d-9cec86a9f85a",
     "showTitle": false,
     "title": ""
    }
   },
   "source": [
    "#### Read Calendar"
   ]
  },
  {
   "cell_type": "code",
   "execution_count": 0,
   "metadata": {
    "application/vnd.databricks.v1+cell": {
     "cellMetadata": {
      "byteLimit": 2048000,
      "rowLimit": 10000
     },
     "inputWidgets": {},
     "nuid": "f8243012-7013-428b-af35-b64b5c5fd429",
     "showTitle": false,
     "title": ""
    }
   },
   "outputs": [],
   "source": [
    "calendar_df = spark.read.csv('/mnt/synapselearningadls/raw/calendar.csv', header=True, inferSchema=True)"
   ]
  },
  {
   "cell_type": "code",
   "execution_count": 0,
   "metadata": {
    "application/vnd.databricks.v1+cell": {
     "cellMetadata": {
      "byteLimit": 2048000,
      "rowLimit": 10000
     },
     "inputWidgets": {},
     "nuid": "fd4dc45f-6304-41af-b3fa-0773464ec3b6",
     "showTitle": false,
     "title": ""
    }
   },
   "outputs": [
    {
     "output_type": "display_data",
     "data": {
      "text/html": [
       "<style scoped>\n",
       "  .table-result-container {\n",
       "    max-height: 300px;\n",
       "    overflow: auto;\n",
       "  }\n",
       "  table, th, td {\n",
       "    border: 1px solid black;\n",
       "    border-collapse: collapse;\n",
       "  }\n",
       "  th, td {\n",
       "    padding: 5px;\n",
       "  }\n",
       "  th {\n",
       "    text-align: left;\n",
       "  }\n",
       "</style><div class='table-result-container'><table class='table-result'><thead style='background-color: white'><tr><th>date_key</th><th>date</th><th>year</th><th>month</th><th>day</th><th>day_name</th><th>day_of_year</th><th>week_of_month</th><th>week_of_year</th><th>month_name</th><th>year_month</th><th>year_week</th></tr></thead><tbody><tr><td>20200101</td><td>2020-01-01</td><td>2020</td><td>1</td><td>1</td><td>Wednesday</td><td>1</td><td>1</td><td>1</td><td>January</td><td>202001</td><td>202001</td></tr><tr><td>20200102</td><td>2020-01-02</td><td>2020</td><td>1</td><td>2</td><td>Thursday</td><td>2</td><td>1</td><td>1</td><td>January</td><td>202001</td><td>202001</td></tr><tr><td>20200103</td><td>2020-01-03</td><td>2020</td><td>1</td><td>3</td><td>Friday</td><td>3</td><td>1</td><td>1</td><td>January</td><td>202001</td><td>202001</td></tr><tr><td>20200104</td><td>2020-01-04</td><td>2020</td><td>1</td><td>4</td><td>Saturday</td><td>4</td><td>1</td><td>1</td><td>January</td><td>202001</td><td>202001</td></tr><tr><td>20200105</td><td>2020-01-05</td><td>2020</td><td>1</td><td>5</td><td>Sunday</td><td>5</td><td>2</td><td>2</td><td>January</td><td>202001</td><td>202002</td></tr><tr><td>20200106</td><td>2020-01-06</td><td>2020</td><td>1</td><td>6</td><td>Monday</td><td>6</td><td>2</td><td>2</td><td>January</td><td>202001</td><td>202002</td></tr><tr><td>20200107</td><td>2020-01-07</td><td>2020</td><td>1</td><td>7</td><td>Tuesday</td><td>7</td><td>2</td><td>2</td><td>January</td><td>202001</td><td>202002</td></tr><tr><td>20200108</td><td>2020-01-08</td><td>2020</td><td>1</td><td>8</td><td>Wednesday</td><td>8</td><td>2</td><td>2</td><td>January</td><td>202001</td><td>202002</td></tr><tr><td>20200109</td><td>2020-01-09</td><td>2020</td><td>1</td><td>9</td><td>Thursday</td><td>9</td><td>2</td><td>2</td><td>January</td><td>202001</td><td>202002</td></tr><tr><td>20200110</td><td>2020-01-10</td><td>2020</td><td>1</td><td>10</td><td>Friday</td><td>10</td><td>2</td><td>2</td><td>January</td><td>202001</td><td>202002</td></tr></tbody></table></div>"
      ]
     },
     "metadata": {
      "application/vnd.databricks.v1+output": {
       "addedWidgets": {},
       "aggData": [],
       "aggError": "",
       "aggOverflow": false,
       "aggSchema": [],
       "aggSeriesLimitReached": false,
       "aggType": "",
       "arguments": {},
       "columnCustomDisplayInfos": {},
       "data": [
        [
         20200101,
         "2020-01-01",
         2020,
         1,
         1,
         "Wednesday",
         1,
         1,
         1,
         "January",
         202001,
         202001
        ],
        [
         20200102,
         "2020-01-02",
         2020,
         1,
         2,
         "Thursday",
         2,
         1,
         1,
         "January",
         202001,
         202001
        ],
        [
         20200103,
         "2020-01-03",
         2020,
         1,
         3,
         "Friday",
         3,
         1,
         1,
         "January",
         202001,
         202001
        ],
        [
         20200104,
         "2020-01-04",
         2020,
         1,
         4,
         "Saturday",
         4,
         1,
         1,
         "January",
         202001,
         202001
        ],
        [
         20200105,
         "2020-01-05",
         2020,
         1,
         5,
         "Sunday",
         5,
         2,
         2,
         "January",
         202001,
         202002
        ],
        [
         20200106,
         "2020-01-06",
         2020,
         1,
         6,
         "Monday",
         6,
         2,
         2,
         "January",
         202001,
         202002
        ],
        [
         20200107,
         "2020-01-07",
         2020,
         1,
         7,
         "Tuesday",
         7,
         2,
         2,
         "January",
         202001,
         202002
        ],
        [
         20200108,
         "2020-01-08",
         2020,
         1,
         8,
         "Wednesday",
         8,
         2,
         2,
         "January",
         202001,
         202002
        ],
        [
         20200109,
         "2020-01-09",
         2020,
         1,
         9,
         "Thursday",
         9,
         2,
         2,
         "January",
         202001,
         202002
        ],
        [
         20200110,
         "2020-01-10",
         2020,
         1,
         10,
         "Friday",
         10,
         2,
         2,
         "January",
         202001,
         202002
        ]
       ],
       "datasetInfos": [],
       "dbfsResultPath": null,
       "isJsonSchema": true,
       "metadata": {},
       "overflow": false,
       "plotOptions": {
        "customPlotOptions": {},
        "displayType": "table",
        "pivotAggregation": null,
        "pivotColumns": null,
        "xColumns": null,
        "yColumns": null
       },
       "removedWidgets": [],
       "schema": [
        {
         "metadata": "{}",
         "name": "date_key",
         "type": "\"integer\""
        },
        {
         "metadata": "{\"__detected_date_formats\":\"yyyy-M-d\"}",
         "name": "date",
         "type": "\"date\""
        },
        {
         "metadata": "{}",
         "name": "year",
         "type": "\"integer\""
        },
        {
         "metadata": "{}",
         "name": "month",
         "type": "\"integer\""
        },
        {
         "metadata": "{}",
         "name": "day",
         "type": "\"integer\""
        },
        {
         "metadata": "{}",
         "name": "day_name",
         "type": "\"string\""
        },
        {
         "metadata": "{}",
         "name": "day_of_year",
         "type": "\"integer\""
        },
        {
         "metadata": "{}",
         "name": "week_of_month",
         "type": "\"integer\""
        },
        {
         "metadata": "{}",
         "name": "week_of_year",
         "type": "\"integer\""
        },
        {
         "metadata": "{}",
         "name": "month_name",
         "type": "\"string\""
        },
        {
         "metadata": "{}",
         "name": "year_month",
         "type": "\"integer\""
        },
        {
         "metadata": "{}",
         "name": "year_week",
         "type": "\"integer\""
        }
       ],
       "type": "table"
      }
     },
     "output_type": "display_data"
    }
   ],
   "source": [
    "display(calendar_df.limit(10))"
   ]
  },
  {
   "cell_type": "markdown",
   "metadata": {
    "application/vnd.databricks.v1+cell": {
     "cellMetadata": {
      "byteLimit": 2048000,
      "rowLimit": 10000
     },
     "inputWidgets": {},
     "nuid": "9fd1a781-fd91-40a3-a232-6fc935fcec7a",
     "showTitle": false,
     "title": ""
    }
   },
   "source": [
    "#### Read Trip Type "
   ]
  },
  {
   "cell_type": "code",
   "execution_count": 0,
   "metadata": {
    "application/vnd.databricks.v1+cell": {
     "cellMetadata": {
      "byteLimit": 2048000,
      "rowLimit": 10000
     },
     "inputWidgets": {},
     "nuid": "e68b2c56-3aae-4bad-b065-6c30cedaf0dd",
     "showTitle": false,
     "title": ""
    }
   },
   "outputs": [],
   "source": [
    "trip_type_df = spark.read.csv('/mnt/synapselearningadls/raw/trip_type.tsv', sep=r'\\t', header=True)"
   ]
  },
  {
   "cell_type": "code",
   "execution_count": 0,
   "metadata": {
    "application/vnd.databricks.v1+cell": {
     "cellMetadata": {
      "byteLimit": 2048000,
      "rowLimit": 10000
     },
     "inputWidgets": {},
     "nuid": "8b9d488f-6a54-43a7-88ad-415629e03e4c",
     "showTitle": false,
     "title": ""
    }
   },
   "outputs": [
    {
     "output_type": "display_data",
     "data": {
      "text/html": [
       "<style scoped>\n",
       "  .table-result-container {\n",
       "    max-height: 300px;\n",
       "    overflow: auto;\n",
       "  }\n",
       "  table, th, td {\n",
       "    border: 1px solid black;\n",
       "    border-collapse: collapse;\n",
       "  }\n",
       "  th, td {\n",
       "    padding: 5px;\n",
       "  }\n",
       "  th {\n",
       "    text-align: left;\n",
       "  }\n",
       "</style><div class='table-result-container'><table class='table-result'><thead style='background-color: white'><tr><th>trip_type</th><th>trip_type_desc</th></tr></thead><tbody><tr><td>1</td><td>Street-hail</td></tr><tr><td>2</td><td>Dispatch</td></tr></tbody></table></div>"
      ]
     },
     "metadata": {
      "application/vnd.databricks.v1+output": {
       "addedWidgets": {},
       "aggData": [],
       "aggError": "",
       "aggOverflow": false,
       "aggSchema": [],
       "aggSeriesLimitReached": false,
       "aggType": "",
       "arguments": {},
       "columnCustomDisplayInfos": {},
       "data": [
        [
         "1",
         "Street-hail"
        ],
        [
         "2",
         "Dispatch"
        ]
       ],
       "datasetInfos": [],
       "dbfsResultPath": null,
       "isJsonSchema": true,
       "metadata": {},
       "overflow": false,
       "plotOptions": {
        "customPlotOptions": {},
        "displayType": "table",
        "pivotAggregation": null,
        "pivotColumns": null,
        "xColumns": null,
        "yColumns": null
       },
       "removedWidgets": [],
       "schema": [
        {
         "metadata": "{}",
         "name": "trip_type",
         "type": "\"string\""
        },
        {
         "metadata": "{}",
         "name": "trip_type_desc",
         "type": "\"string\""
        }
       ],
       "type": "table"
      }
     },
     "output_type": "display_data"
    }
   ],
   "source": [
    "display(trip_type_df)"
   ]
  },
  {
   "cell_type": "markdown",
   "metadata": {
    "application/vnd.databricks.v1+cell": {
     "cellMetadata": {
      "byteLimit": 2048000,
      "rowLimit": 10000
     },
     "inputWidgets": {},
     "nuid": "b17fd389-db6f-4fa8-bb3b-c849bb476c7d",
     "showTitle": false,
     "title": ""
    }
   },
   "source": [
    "#### Join and Transform Data "
   ]
  },
  {
   "cell_type": "code",
   "execution_count": 0,
   "metadata": {
    "application/vnd.databricks.v1+cell": {
     "cellMetadata": {
      "byteLimit": 2048000,
      "rowLimit": 10000
     },
     "inputWidgets": {},
     "nuid": "a9841f0f-2f4b-4f98-9aee-daa77abc1746",
     "showTitle": false,
     "title": ""
    }
   },
   "outputs": [],
   "source": [
    "from pyspark.sql.types import DateType"
   ]
  },
  {
   "cell_type": "code",
   "execution_count": 0,
   "metadata": {
    "application/vnd.databricks.v1+cell": {
     "cellMetadata": {
      "byteLimit": 2048000,
      "rowLimit": 10000
     },
     "inputWidgets": {},
     "nuid": "a8b573bf-4f38-41c8-837b-f775c46cde36",
     "showTitle": false,
     "title": ""
    }
   },
   "outputs": [],
   "source": [
    "from pyspark.sql.functions import col, count, when, sum, round, cast"
   ]
  },
  {
   "cell_type": "code",
   "execution_count": 0,
   "metadata": {
    "application/vnd.databricks.v1+cell": {
     "cellMetadata": {
      "byteLimit": 2048000,
      "rowLimit": 10000
     },
     "inputWidgets": {},
     "nuid": "9c12715f-a3d9-4499-9d04-a4149ae92ef4",
     "showTitle": false,
     "title": ""
    }
   },
   "outputs": [],
   "source": [
    "final_taxi_df = trip_data_df.join(taxi_zone_df, trip_data_df.PULocationID == taxi_zone_df.LocationID) \\\n",
    "                .join(calendar_df, trip_data_df.lpep_pickup_datetime.cast(DateType()) == calendar_df.date) \\\n",
    "                .join(payment_type_df, trip_data_df.payment_type == payment_type_df.payment_type) \\\n",
    "                .join(trip_type_df, trip_data_df.trip_type == trip_type_df.trip_type) \\\n",
    "                .groupBy(trip_data_df.year, trip_data_df.month, 'borough', col('lpep_pickup_datetime').cast(DateType()).alias('trip_date'), 'day_name') \\\n",
    "                .agg(sum(when(col('payment_type_desc').ilike('Cash'), 1).otherwise(0)).alias('cash_trip_count'), \n",
    "                     sum(when(col('payment_type_desc').ilike('Credit card'), 1).otherwise(0)).alias('card_trip_count'),\n",
    "                     sum(when(col('trip_type_desc').ilike('Dispatch'), 1).otherwise(0)).alias('despatch_trip_count'), \n",
    "                     sum(when(col('trip_type_desc').ilike('Street-hail'), 1).otherwise(0)).alias('street_hail_trip_count'), \n",
    "                     round(sum(col('trip_distance')), 2).alias('trip_distance'), \n",
    "                     round(sum((col('lpep_dropoff_datetime').cast('long') - col('lpep_pickup_datetime').cast('long'))/60), 0).alias('trip_duration'),\n",
    "                     round(sum('fare_amount'), 2).alias('fare_amount')) \\\n",
    "                .withColumn('trip_day_week_end_ind', when(col('day_name').isin(['Saturday', 'Sunday']), 'Y').otherwise('N')) \\\n",
    "                .select(trip_data_df.year, trip_data_df.month, 'borough', 'trip_date', \n",
    "                        col('day_name').alias('trip_day'), 'trip_day_week_end_ind', 'cash_trip_count', 'card_trip_count', 'despatch_trip_count', 'street_hail_trip_count', 'trip_distance', 'trip_duration', 'fare_amount')\n",
    "\n",
    "#  For calculating trip_duration in Minutes, I am casting it to long and dividing by 60 because when you cast a timestamp to long in PySpark, it converts the timestamp into Unix timestamp format, which is the number of seconds that have elapsed since 1970-01-01 00:00:00 UTC. Please note that this does not account for leap seconds.\n",
    "\n",
    "#  This transformation can easily done on sql using `SUM(DATEDIFF(MINUTE, lpep_dropoff_datetime, lpep_pickup_datetime))`"
   ]
  },
  {
   "cell_type": "code",
   "execution_count": 0,
   "metadata": {
    "application/vnd.databricks.v1+cell": {
     "cellMetadata": {
      "byteLimit": 2048000,
      "rowLimit": 10000
     },
     "inputWidgets": {},
     "nuid": "5c328610-f271-41fd-9654-61f7666794b4",
     "showTitle": false,
     "title": ""
    }
   },
   "outputs": [
    {
     "output_type": "display_data",
     "data": {
      "text/html": [
       "<style scoped>\n",
       "  .table-result-container {\n",
       "    max-height: 300px;\n",
       "    overflow: auto;\n",
       "  }\n",
       "  table, th, td {\n",
       "    border: 1px solid black;\n",
       "    border-collapse: collapse;\n",
       "  }\n",
       "  th, td {\n",
       "    padding: 5px;\n",
       "  }\n",
       "  th {\n",
       "    text-align: left;\n",
       "  }\n",
       "</style><div class='table-result-container'><table class='table-result'><thead style='background-color: white'><tr><th>year</th><th>month</th><th>borough</th><th>trip_date</th><th>trip_day</th><th>trip_day_week_end_ind</th><th>cash_trip_count</th><th>card_trip_count</th><th>despatch_trip_count</th><th>street_hail_trip_count</th><th>trip_distance</th><th>trip_duration</th><th>fare_amount</th></tr></thead><tbody><tr><td>2020</td><td>2</td><td>Queens</td><td>2020-03-01</td><td>Sunday</td><td>Y</td><td>7</td><td>3</td><td>0</td><td>10</td><td>32.0</td><td>106.0</td><td>118.5</td></tr><tr><td>2020</td><td>1</td><td>Queens</td><td>2020-01-10</td><td>Friday</td><td>N</td><td>1809</td><td>1689</td><td>97</td><td>3423</td><td>9175.7</td><td>59035.0</td><td>42050.42</td></tr><tr><td>2020</td><td>1</td><td>Queens</td><td>2020-01-09</td><td>Thursday</td><td>N</td><td>1761</td><td>1630</td><td>102</td><td>3314</td><td>8541.04</td><td>61778.0</td><td>39608.31</td></tr><tr><td>2020</td><td>2</td><td>Manhattan</td><td>2020-02-01</td><td>Saturday</td><td>Y</td><td>1983</td><td>2221</td><td>65</td><td>4184</td><td>9718.39</td><td>68776.0</td><td>42592.03</td></tr><tr><td>2020</td><td>3</td><td>Bronx</td><td>2020-03-19</td><td>Thursday</td><td>N</td><td>97</td><td>87</td><td>33</td><td>154</td><td>665.93</td><td>4422.0</td><td>3237.08</td></tr><tr><td>2020</td><td>1</td><td>Bronx</td><td>2020-01-16</td><td>Thursday</td><td>N</td><td>181</td><td>273</td><td>58</td><td>402</td><td>1434.36</td><td>8179.0</td><td>7426.49</td></tr><tr><td>2020</td><td>3</td><td>Brooklyn</td><td>2020-02-19</td><td>Wednesday</td><td>N</td><td>1</td><td>0</td><td>0</td><td>1</td><td>7.97</td><td>30.0</td><td>26.0</td></tr><tr><td>2020</td><td>1</td><td>Staten Island</td><td>2020-01-29</td><td>Wednesday</td><td>N</td><td>1</td><td>3</td><td>0</td><td>4</td><td>52.07</td><td>91.0</td><td>146.5</td></tr><tr><td>2020</td><td>2</td><td>Bronx</td><td>2020-02-11</td><td>Tuesday</td><td>N</td><td>133</td><td>202</td><td>52</td><td>285</td><td>1153.04</td><td>7448.0</td><td>5824.74</td></tr><tr><td>2020</td><td>3</td><td>Staten Island</td><td>2020-03-21</td><td>Saturday</td><td>Y</td><td>0</td><td>1</td><td>0</td><td>1</td><td>31.87</td><td>44.0</td><td>85.0</td></tr><tr><td>2020</td><td>1</td><td>Manhattan</td><td>2020-01-05</td><td>Sunday</td><td>Y</td><td>1512</td><td>1632</td><td>55</td><td>3114</td><td>7077.52</td><td>42699.0</td><td>30882.58</td></tr><tr><td>2020</td><td>1</td><td>Brooklyn</td><td>2020-01-06</td><td>Monday</td><td>N</td><td>722</td><td>1366</td><td>23</td><td>2079</td><td>6036.44</td><td>46666.0</td><td>28655.44</td></tr><tr><td>2020</td><td>1</td><td>Brooklyn</td><td>2020-01-24</td><td>Friday</td><td>N</td><td>885</td><td>1871</td><td>37</td><td>2733</td><td>8038.76</td><td>58111.0</td><td>38947.72</td></tr><tr><td>2020</td><td>1</td><td>Manhattan</td><td>2020-02-01</td><td>Saturday</td><td>Y</td><td>3</td><td>3</td><td>0</td><td>6</td><td>19.01</td><td>63.0</td><td>71.5</td></tr><tr><td>2020</td><td>3</td><td>Unknown</td><td>2020-03-27</td><td>Friday</td><td>N</td><td>4</td><td>2</td><td>1</td><td>5</td><td>81.93</td><td>115.0</td><td>263.5</td></tr></tbody></table></div>"
      ]
     },
     "metadata": {
      "application/vnd.databricks.v1+output": {
       "addedWidgets": {},
       "aggData": [],
       "aggError": "",
       "aggOverflow": false,
       "aggSchema": [],
       "aggSeriesLimitReached": false,
       "aggType": "",
       "arguments": {},
       "columnCustomDisplayInfos": {},
       "data": [
        [
         2020,
         2,
         "Queens",
         "2020-03-01",
         "Sunday",
         "Y",
         7,
         3,
         0,
         10,
         32.0,
         106.0,
         118.5
        ],
        [
         2020,
         1,
         "Queens",
         "2020-01-10",
         "Friday",
         "N",
         1809,
         1689,
         97,
         3423,
         9175.7,
         59035.0,
         42050.42
        ],
        [
         2020,
         1,
         "Queens",
         "2020-01-09",
         "Thursday",
         "N",
         1761,
         1630,
         102,
         3314,
         8541.04,
         61778.0,
         39608.31
        ],
        [
         2020,
         2,
         "Manhattan",
         "2020-02-01",
         "Saturday",
         "Y",
         1983,
         2221,
         65,
         4184,
         9718.39,
         68776.0,
         42592.03
        ],
        [
         2020,
         3,
         "Bronx",
         "2020-03-19",
         "Thursday",
         "N",
         97,
         87,
         33,
         154,
         665.93,
         4422.0,
         3237.08
        ],
        [
         2020,
         1,
         "Bronx",
         "2020-01-16",
         "Thursday",
         "N",
         181,
         273,
         58,
         402,
         1434.36,
         8179.0,
         7426.49
        ],
        [
         2020,
         3,
         "Brooklyn",
         "2020-02-19",
         "Wednesday",
         "N",
         1,
         0,
         0,
         1,
         7.97,
         30.0,
         26.0
        ],
        [
         2020,
         1,
         "Staten Island",
         "2020-01-29",
         "Wednesday",
         "N",
         1,
         3,
         0,
         4,
         52.07,
         91.0,
         146.5
        ],
        [
         2020,
         2,
         "Bronx",
         "2020-02-11",
         "Tuesday",
         "N",
         133,
         202,
         52,
         285,
         1153.04,
         7448.0,
         5824.74
        ],
        [
         2020,
         3,
         "Staten Island",
         "2020-03-21",
         "Saturday",
         "Y",
         0,
         1,
         0,
         1,
         31.87,
         44.0,
         85.0
        ],
        [
         2020,
         1,
         "Manhattan",
         "2020-01-05",
         "Sunday",
         "Y",
         1512,
         1632,
         55,
         3114,
         7077.52,
         42699.0,
         30882.58
        ],
        [
         2020,
         1,
         "Brooklyn",
         "2020-01-06",
         "Monday",
         "N",
         722,
         1366,
         23,
         2079,
         6036.44,
         46666.0,
         28655.44
        ],
        [
         2020,
         1,
         "Brooklyn",
         "2020-01-24",
         "Friday",
         "N",
         885,
         1871,
         37,
         2733,
         8038.76,
         58111.0,
         38947.72
        ],
        [
         2020,
         1,
         "Manhattan",
         "2020-02-01",
         "Saturday",
         "Y",
         3,
         3,
         0,
         6,
         19.01,
         63.0,
         71.5
        ],
        [
         2020,
         3,
         "Unknown",
         "2020-03-27",
         "Friday",
         "N",
         4,
         2,
         1,
         5,
         81.93,
         115.0,
         263.5
        ]
       ],
       "datasetInfos": [],
       "dbfsResultPath": null,
       "isJsonSchema": true,
       "metadata": {},
       "overflow": false,
       "plotOptions": {
        "customPlotOptions": {},
        "displayType": "table",
        "pivotAggregation": null,
        "pivotColumns": null,
        "xColumns": null,
        "yColumns": null
       },
       "removedWidgets": [],
       "schema": [
        {
         "metadata": "{}",
         "name": "year",
         "type": "\"integer\""
        },
        {
         "metadata": "{}",
         "name": "month",
         "type": "\"integer\""
        },
        {
         "metadata": "{}",
         "name": "borough",
         "type": "\"string\""
        },
        {
         "metadata": "{}",
         "name": "trip_date",
         "type": "\"date\""
        },
        {
         "metadata": "{}",
         "name": "trip_day",
         "type": "\"string\""
        },
        {
         "metadata": "{}",
         "name": "trip_day_week_end_ind",
         "type": "\"string\""
        },
        {
         "metadata": "{}",
         "name": "cash_trip_count",
         "type": "\"long\""
        },
        {
         "metadata": "{}",
         "name": "card_trip_count",
         "type": "\"long\""
        },
        {
         "metadata": "{}",
         "name": "despatch_trip_count",
         "type": "\"long\""
        },
        {
         "metadata": "{}",
         "name": "street_hail_trip_count",
         "type": "\"long\""
        },
        {
         "metadata": "{}",
         "name": "trip_distance",
         "type": "\"double\""
        },
        {
         "metadata": "{}",
         "name": "trip_duration",
         "type": "\"double\""
        },
        {
         "metadata": "{}",
         "name": "fare_amount",
         "type": "\"double\""
        }
       ],
       "type": "table"
      }
     },
     "output_type": "display_data"
    }
   ],
   "source": [
    "display(final_taxi_df.limit(15))"
   ]
  },
  {
   "cell_type": "markdown",
   "metadata": {
    "application/vnd.databricks.v1+cell": {
     "cellMetadata": {},
     "inputWidgets": {},
     "nuid": "3707a118-a18a-4169-b3e0-b68a03ce92cc",
     "showTitle": false,
     "title": ""
    }
   },
   "source": [
    "##### Writing transformed file in processed container"
   ]
  },
  {
   "cell_type": "code",
   "execution_count": 0,
   "metadata": {
    "application/vnd.databricks.v1+cell": {
     "cellMetadata": {
      "byteLimit": 2048000,
      "rowLimit": 10000
     },
     "inputWidgets": {},
     "nuid": "d7163329-55b3-475e-ab9a-f77d8f4df356",
     "showTitle": false,
     "title": ""
    }
   },
   "outputs": [],
   "source": [
    "final_taxi_df.write.mode('append').partitionBy('year', 'month').format('delta').save('/mnt/synapselearningadls/processed/trip_data_green')"
   ]
  }
 ],
 "metadata": {
  "application/vnd.databricks.v1+notebook": {
   "dashboards": [],
   "language": "python",
   "notebookMetadata": {
    "pythonIndentUnit": 4
   },
   "notebookName": "1.gold_layer_trans",
   "widgets": {}
  }
 },
 "nbformat": 4,
 "nbformat_minor": 0
}
