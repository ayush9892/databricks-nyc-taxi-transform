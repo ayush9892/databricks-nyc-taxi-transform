{
 "cells": [
  {
   "cell_type": "code",
   "execution_count": 0,
   "metadata": {
    "application/vnd.databricks.v1+cell": {
     "cellMetadata": {
      "byteLimit": 2048000,
      "rowLimit": 10000
     },
     "inputWidgets": {},
     "nuid": "da099388-141b-45f2-927d-93cdf97f29cb",
     "showTitle": false,
     "title": ""
    }
   },
   "outputs": [],
   "source": [
    "def mount_adls(storage_account, container_name):\n",
    "    # Get id and key\n",
    "    client_id = dbutils.secrets.get(scope='formula1-scope', key='formula1-databricks-client-id')\n",
    "    tenant_id = dbutils.secrets.get(scope='formula1-scope', key='formula1-databricks-tenant-id')\n",
    "    client_secret = dbutils.secrets.get(scope='formula1-scope', key='formula1-databricks-client-secret')\n",
    "\n",
    "    # Set Spark configs\n",
    "    configs = {\"fs.azure.account.auth.type\": \"OAuth\",\n",
    "          \"fs.azure.account.oauth.provider.type\": \"org.apache.hadoop.fs.azurebfs.oauth2.ClientCredsTokenProvider\",\n",
    "          \"fs.azure.account.oauth2.client.id\": client_id,\n",
    "          \"fs.azure.account.oauth2.client.secret\": client_secret,\n",
    "          \"fs.azure.account.oauth2.client.endpoint\": f\"https://login.microsoftonline.com/{tenant_id}/oauth2/token\"\n",
    "        }\n",
    "\n",
    "    # Unmount the mount if its already available\n",
    "    if any(mount.mountPoint == f'/mnt/{storage_account}/{container_name}' for mount in dbutils.fs.mounts()):\n",
    "        dbutils.fs.unmount(f'/mnt/{storage_account}/{container_name}')\n",
    "\n",
    "    # Mount container\n",
    "    dbutils.fs.mount(\n",
    "        source = f'abfss://{container_name}@{storage_account}.dfs.core.windows.net/',\n",
    "        mount_point = f'/mnt/{storage_account}/{container_name}',\n",
    "        extra_configs = configs\n",
    "    )"
   ]
  },
  {
   "cell_type": "markdown",
   "metadata": {
    "application/vnd.databricks.v1+cell": {
     "cellMetadata": {},
     "inputWidgets": {},
     "nuid": "43bcb9a4-8af6-49ad-b9cf-e25e0cfd9e5e",
     "showTitle": false,
     "title": ""
    }
   },
   "source": [
    "Mount Raw Conatiner"
   ]
  },
  {
   "cell_type": "code",
   "execution_count": 0,
   "metadata": {
    "application/vnd.databricks.v1+cell": {
     "cellMetadata": {
      "byteLimit": 2048000,
      "rowLimit": 10000
     },
     "inputWidgets": {},
     "nuid": "d1ba3c8f-7158-44fa-a747-2b23f12ce498",
     "showTitle": false,
     "title": ""
    }
   },
   "outputs": [],
   "source": [
    "mount_adls('synapselearningadls', 'raw')"
   ]
  },
  {
   "cell_type": "code",
   "execution_count": 0,
   "metadata": {
    "application/vnd.databricks.v1+cell": {
     "cellMetadata": {
      "byteLimit": 2048000,
      "rowLimit": 10000
     },
     "inputWidgets": {},
     "nuid": "db6856c4-05e6-422f-82eb-0ef7d8fafbed",
     "showTitle": false,
     "title": ""
    }
   },
   "outputs": [],
   "source": [
    "mount_adls('synapselearningadls', 'processed')"
   ]
  },
  {
   "cell_type": "code",
   "execution_count": 0,
   "metadata": {
    "application/vnd.databricks.v1+cell": {
     "cellMetadata": {
      "byteLimit": 2048000,
      "rowLimit": 10000
     },
     "inputWidgets": {},
     "nuid": "34ed939f-0f1d-40a5-911a-9db1a1c56990",
     "showTitle": false,
     "title": ""
    }
   },
   "outputs": [],
   "source": [
    "display(dbutils.fs.mounts())"
   ]
  },
  {
   "cell_type": "code",
   "execution_count": 0,
   "metadata": {
    "application/vnd.databricks.v1+cell": {
     "cellMetadata": {},
     "inputWidgets": {},
     "nuid": "29a36aeb-44a4-4b58-b9d8-bfa7091e4e3e",
     "showTitle": false,
     "title": ""
    }
   },
   "outputs": [],
   "source": []
  }
 ],
 "metadata": {
  "application/vnd.databricks.v1+notebook": {
   "dashboards": [],
   "language": "python",
   "notebookMetadata": {
    "pythonIndentUnit": 4
   },
   "notebookName": "mount_adls_container",
   "widgets": {}
  }
 },
 "nbformat": 4,
 "nbformat_minor": 0
}
